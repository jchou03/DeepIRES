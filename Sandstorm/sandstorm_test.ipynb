{
 "cells": [
  {
   "cell_type": "code",
   "execution_count": 62,
   "metadata": {},
   "outputs": [],
   "source": [
    "import tensorflow as tf\n",
    "import keras as tfk\n",
    "tfkl = tf.keras.layers\n",
    "import numpy as np\n",
    "import matplotlib.pyplot as plt\n",
    "import pandas as pd\n",
    "from sklearn.model_selection import train_test_split\n",
    "from scipy.stats import spearmanr, pearsonr\n",
    "from sklearn.metrics import r2_score, ConfusionMatrixDisplay\n",
    "import sys\n",
    "sys.path.insert(0,'../DIGs')\n",
    "from sklearn.metrics import roc_auc_score, average_precision_score, f1_score,accuracy_score,recall_score,matthews_corrcoef,confusion_matrix,roc_curve, precision_recall_curve, auc\n",
    "import seaborn as sns\n",
    "\n",
    "\n",
    "# from GA_util_custom import prototype_ppms_fast"
   ]
  },
  {
   "cell_type": "markdown",
   "metadata": {},
   "source": [
    "Helper functions from GA util"
   ]
  },
  {
   "cell_type": "code",
   "execution_count": 44,
   "metadata": {},
   "outputs": [],
   "source": [
    "\n",
    "import tensorflow as tf\n",
    "import keras as tfk\n",
    "tfkl = tf.keras.layers\n",
    "import numpy as np\n",
    "import matplotlib.pyplot as plt\n",
    "import pandas as pd\n",
    "from tfa_spectral import SpectralNormalization as SN\n",
    "\n",
    "\n",
    "nucleotides = {'A':0,'G':1,'C':2,'T':3,'a':0,'g':1,'c':2,'t':3}\n",
    "letters = ['A','G','C','T']\n",
    "\n",
    "\n",
    "#-----------------------------------------------    \n",
    "#One Hot Encoding\n",
    "\n",
    "# Since sequences are different lengths, this will also zero pad the shorter ones\n",
    "\n",
    "def one_hot_encode(seqs):\n",
    "    full_set = seqs.sum(axis=1).astype(str)\n",
    "    seqs = full_set.apply(lambda x: pd.Series(list(x))).to_numpy()\n",
    "\n",
    "    #seqs is shape (nseqs,seq_len)\n",
    "    nseqs = seqs.shape[0]\n",
    "    seq_len = seqs.shape[1]\n",
    "    out = np.zeros(shape = (nseqs,4,seq_len))\n",
    "    for i in range(nseqs):\n",
    "        for j in range(seq_len):\n",
    "            #Nan catch\n",
    "            if type(seqs[i,j]) is float:\n",
    "                pass\n",
    "            #Catch for a typo with spaces in line 26 of the natural terminator dataset\n",
    "            elif seqs[i,j] == ' ':\n",
    "                seqs[i,:] = np.roll(seqs[i,:],shift=-1,axis=0)\n",
    "                seqs[i,-1] = np.nan\n",
    "            else:\n",
    "                if seqs[i,j] == 'Z':\n",
    "                    pass\n",
    "                else:\n",
    "                    idx = nucleotides[seqs[i,j]]\n",
    "                    out[i,idx,j] = 1\n",
    "    return out\n",
    "\n",
    "#-----------------------------------------------\n",
    "def prototype_ppms_fast(seqs):\n",
    "    if seqs.shape[0] is None:\n",
    "        return None\n",
    "    else:\n",
    "        output = np.zeros(shape=(seqs.shape[0],seqs.shape[2],seqs.shape[2]))\n",
    "        for i in range(seqs.shape[0]):\n",
    "            output[i,:,:] = contact_map(seqs[i,:,:])\n",
    "        return output\n",
    "\n",
    "#-----------------------------------------------\n",
    "def contact_map(seq):\n",
    "    \n",
    "    #computes the structure array\n",
    "    \n",
    "    #seq is shape 4, nt\n",
    "    seq_len = seq.shape[1]\n",
    "    \n",
    "    output = np.zeros(shape = (seq_len,seq_len)) #increasing dimension to 2 for G-U pair calculation\n",
    "    \n",
    "    gu_output = np.zeros(shape = (seq_len,seq_len))\n",
    "    \n",
    "    #Find the indices of each nucleotide\n",
    "    As = np.where(np.argmax(seq,axis=0)==0)\n",
    "    Gs = np.where(np.argmax(seq,axis=0)==1)\n",
    "    Cs  = np.where(np.argmax(seq,axis=0)==2)\n",
    "    Ts = np.where(np.argmax(seq,axis=0)==3)\n",
    "    \n",
    "    \n",
    "    #Make it so now every G-C pair is represented as a 3\n",
    "    output[Gs,:] = 1\n",
    "    output[:,Cs]+=2\n",
    "    output[output<3] = 0\n",
    "    \n",
    "    output[Cs,:] = 1\n",
    "    output[:,Gs] +=2\n",
    "    output[output<3] = 0\n",
    "    \n",
    "    \n",
    "    #Repeat for every A-U base pair\n",
    "    output[As,:] = 1\n",
    "    output[:,Ts] += 1\n",
    "    \n",
    "    output[output< 2] = 0\n",
    "    \n",
    "\n",
    "    output[Ts,:] = 1\n",
    "    output[:,As] +=1\n",
    "    output[output<2] = 0\n",
    "    \n",
    "    #Repeat for every G-U base pair\n",
    "    gu_output[Gs,:] = 1\n",
    "    gu_output[:,Ts] += 1\n",
    "    \n",
    "    gu_output[gu_output< 2] = 0\n",
    "    \n",
    "\n",
    "    gu_output[Ts,:] = 1\n",
    "    gu_output[:,Gs] +=1\n",
    "    gu_output[gu_output<2] = 0\n",
    "    \n",
    "\n",
    "    \n",
    "#     #Now we need to divide by the distance between the nucleotides\n",
    "#     where_vals_gc = np.where(output==3)\n",
    "#     where_vals_at = np.where(output==2)\n",
    "    \n",
    "#     #dividing base pairs by distance without for loops\n",
    "#     distance_vec_gc = np.abs(where_vals_gc[0] - where_vals_gc[1])\n",
    "#     # output[where_vals_gc] =1 \n",
    "#     output[where_vals_gc] /= distance_vec_gc\n",
    "    \n",
    "#     distance_vec_at = np.abs(where_vals_at[0] - where_vals_at[1])\n",
    "#     output[where_vals_at] /= distance_vec_at\n",
    "    \n",
    "    \n",
    "#     where_vals_gu = np.where(gu_output==2)\n",
    "#     distance_vec_gu = np.abs(where_vals_gu[0] - where_vals_gu[1])\n",
    "#     gu_output[where_vals_gu] /= distance_vec_gu\n",
    "\n",
    "\n",
    "    \n",
    "    # return output,gu_output\n",
    "    \n",
    "    output +=gu_output\n",
    "    \n",
    "#     # row_sums = output.sum(axis=1)\n",
    "#     # new_matrix = output / row_sums[:, np.newaxis]\n",
    "#     # #Nan catch for columns with no binding partners\n",
    "#     # new_matrix = np.nan_to_num(new_matrix)\n",
    "\n",
    "    return output # Just do the binarization\n",
    "\n",
    "\n",
    "def create_SANDSTORM(seq_len=60,ppm_len=60,latent_dim=128,internal_activation='relu',output_activation='linear',output_nodes=1,output_units=1,kernel_1_size=[4,18],kernel_2_size=[4,9],kernel_3_size=[4,3]):\n",
    "    # seq_len is the length of the sequences\n",
    "    # Latent dim controls the number of filters\n",
    "    # internal activation is a tensorflow activation function, applied to the hiden layers\n",
    "    # output activation is the activation function of the model output\n",
    "    # output nodes is the number of different output channels the model will have (e.g. 1 for UTR prediciton, 2 for Toehold Prediction (on, off)\n",
    "    # output units is the number of units in the output layer, 1 for regression problems and N for classification with N different classes \n",
    "    \n",
    "    #Define the Inputs\n",
    "    input_seqs = tfk.Input(shape=(4,seq_len,1))\n",
    "    input_probs = tfk.Input(shape=(ppm_len,ppm_len,1))\n",
    "\n",
    "\n",
    "    # Predictive Model Definition\n",
    "    #Sequence Branch\n",
    "    y = SN(tfkl.Conv2D(latent_dim/4, kernel_1_size, strides=(4, 1), padding=\"same\",activation=internal_activation))(input_seqs)\n",
    "    y = tfkl.BatchNormalization()(y)\n",
    "    # y = layers.SpatialDropout2D(0.2)(y)\n",
    "    y = SN(tfkl.Conv2D(latent_dim/8, kernel_2_size, strides=(4, 1), padding=\"same\",activation=internal_activation))(y)\n",
    "    # y = layers.BatchNormalization()(y)\n",
    "    y = SN(tfkl.Conv2D(latent_dim/16,kernel_3_size,strides=(4,1),padding='same',activation=internal_activation))(y)\n",
    "    # y = layers.BatchNormalization()(y)\n",
    "    y = tfkl.Flatten()(y)\n",
    "\n",
    "    #PPM Branch    \n",
    "    x = SN(tfkl.Conv2D(latent_dim/4, (9,9), strides=(ppm_len, 1), padding=\"same\",activation=internal_activation))(input_probs)\n",
    "    # x = layers.BatchNormalization()(x)\n",
    "    x = tfkl.SpatialDropout2D(0.2)(x)\n",
    "    x = SN(tfkl.Conv2D(latent_dim/8, (5,5), strides=(ppm_len, 1), padding=\"same\",activation=internal_activation))(x)\n",
    "    # x = layers.BatchNormalization()(x)\n",
    "    x = SN(tfkl.Conv2D(latent_dim/16, (3,3),strides=(ppm_len,1),padding='same',activation=internal_activation))(x)\n",
    "    x = tfkl.GlobalMaxPooling2D()(x)\n",
    "\n",
    "\n",
    "    x = tfkl.Flatten()(x)\n",
    "\n",
    "    # z = CrossAttentionLayer()([x,y])\n",
    "\n",
    "\n",
    "    #Combine the two\n",
    "    z = tfkl.Concatenate()([x,y])\n",
    "    z = tfkl.Dense(16,activation=internal_activation)(z)\n",
    "    z = tfkl.Dense(8,activation=internal_activation)(z)\n",
    "    z = tfkl.Dense(4,activation=internal_activation)(z)\n",
    "\t\n",
    "    \n",
    "    output_lst = []\n",
    "    for i in range(output_nodes):\n",
    "        tmp = tfkl.Dense(output_units,activation=output_activation,name='prediction_output_%s'%i)(z)\n",
    "        output_lst.append(tmp)\n",
    "\n",
    "\n",
    "    output_model  = tfk.Model(inputs=[input_seqs,input_probs],outputs=output_lst,name='joint_model')\n",
    "    return output_model\n",
    "\n",
    "def model_plot(ground_truth,predictions):\n",
    "    g = sns.jointplot(x=ground_truth,y=predictions,kind='scatter')\n",
    "    g.plot_joint(sns.kdeplot, color=\"darkblue\", zorder=1, levels=6)\n",
    "    g.plot_joint(sns.regplot,scatter=False,color='black')\n",
    "    plt.xlabel('Measured Function')\n",
    "    plt.ylabel('Predicted Function')"
   ]
  },
  {
   "cell_type": "markdown",
   "metadata": {},
   "source": [
    "Explore Data"
   ]
  },
  {
   "cell_type": "code",
   "execution_count": 23,
   "metadata": {},
   "outputs": [
    {
     "data": {
      "text/html": [
       "<div>\n",
       "<style scoped>\n",
       "    .dataframe tbody tr th:only-of-type {\n",
       "        vertical-align: middle;\n",
       "    }\n",
       "\n",
       "    .dataframe tbody tr th {\n",
       "        vertical-align: top;\n",
       "    }\n",
       "\n",
       "    .dataframe thead th {\n",
       "        text-align: right;\n",
       "    }\n",
       "</style>\n",
       "<table border=\"1\" class=\"dataframe\">\n",
       "  <thead>\n",
       "    <tr style=\"text-align: right;\">\n",
       "      <th></th>\n",
       "      <th>Index</th>\n",
       "      <th>Oligo_name</th>\n",
       "      <th>Unnamed: 2</th>\n",
       "      <th>Unnamed: 3</th>\n",
       "      <th>Sequence</th>\n",
       "      <th>mfe</th>\n",
       "      <th>ires_activity</th>\n",
       "      <th>promoter_activity</th>\n",
       "      <th>splicing_score</th>\n",
       "      <th>seq</th>\n",
       "      <th>s1</th>\n",
       "      <th>s2</th>\n",
       "      <th>log</th>\n",
       "      <th>label</th>\n",
       "    </tr>\n",
       "  </thead>\n",
       "  <tbody>\n",
       "    <tr>\n",
       "      <th>0</th>\n",
       "      <td>23647</td>\n",
       "      <td>no_barcode;High_Priority_Viruses_Blocks;NC_012...</td>\n",
       "      <td>no_barcode</td>\n",
       "      <td>High_Priority_Viruses_Blocks</td>\n",
       "      <td>CTAGGGCGCGCCAGTCCTAGACGAGGAATTGGAATACGGGTGGAAG...</td>\n",
       "      <td>-60.8</td>\n",
       "      <td>206.29</td>\n",
       "      <td>0.000000</td>\n",
       "      <td>NaN</td>\n",
       "      <td>AGACGAGGAATTGGAATACGGGTGGAAGAAATGGGGGAAAACATTG...</td>\n",
       "      <td>206.29</td>\n",
       "      <td>206.29</td>\n",
       "      <td>7.68853</td>\n",
       "      <td>0</td>\n",
       "    </tr>\n",
       "    <tr>\n",
       "      <th>1</th>\n",
       "      <td>13876</td>\n",
       "      <td>no_barcode;High_Priority_Viruses_Blocks;NC_001...</td>\n",
       "      <td>no_barcode</td>\n",
       "      <td>High_Priority_Viruses_Blocks</td>\n",
       "      <td>CTAGGGCGCGCCAGTCCTTGGTGCTAGAAGGAGATAGCTGCTTGAC...</td>\n",
       "      <td>-64.3</td>\n",
       "      <td>206.29</td>\n",
       "      <td>0.006328</td>\n",
       "      <td>NaN</td>\n",
       "      <td>TGGTGCTAGAAGGAGATAGCTGCTTGACAATCATGGCAAACGACAA...</td>\n",
       "      <td>206.29</td>\n",
       "      <td>206.29</td>\n",
       "      <td>7.68853</td>\n",
       "      <td>0</td>\n",
       "    </tr>\n",
       "    <tr>\n",
       "      <th>2</th>\n",
       "      <td>112</td>\n",
       "      <td>no_barcode;Human_5UTR_Screen;PRSS22;NM_022119;...</td>\n",
       "      <td>no_barcode</td>\n",
       "      <td>Human_5UTR_Screen</td>\n",
       "      <td>CTAGGGCGCGCCAGTCCTACACACCCTGACCCGCATCGCCCTGGGT...</td>\n",
       "      <td>-85.9</td>\n",
       "      <td>206.29</td>\n",
       "      <td>0.000000</td>\n",
       "      <td>NaN</td>\n",
       "      <td>ACACACCCTGACCCGCATCGCCCTGGGTCTCTCGAGCCTGCTGCCT...</td>\n",
       "      <td>206.29</td>\n",
       "      <td>206.29</td>\n",
       "      <td>7.68853</td>\n",
       "      <td>0</td>\n",
       "    </tr>\n",
       "    <tr>\n",
       "      <th>3</th>\n",
       "      <td>2768</td>\n",
       "      <td>no_barcode;Human_5UTR_Screen;PGRMC1;NM_006667;...</td>\n",
       "      <td>no_barcode</td>\n",
       "      <td>Human_5UTR_Screen</td>\n",
       "      <td>CTAGGGCGCGCCAGTCCTCCGGCTAGTCTTTGGCCGCCGCCGAACC...</td>\n",
       "      <td>-89.4</td>\n",
       "      <td>206.29</td>\n",
       "      <td>0.000000</td>\n",
       "      <td>NaN</td>\n",
       "      <td>CCGGCTAGTCTTTGGCCGCCGCCGAACCCCGCGCGCCACTCGCTCG...</td>\n",
       "      <td>206.29</td>\n",
       "      <td>206.29</td>\n",
       "      <td>7.68853</td>\n",
       "      <td>0</td>\n",
       "    </tr>\n",
       "    <tr>\n",
       "      <th>4</th>\n",
       "      <td>6625</td>\n",
       "      <td>no_barcode;High_Priority_Genes_Blocks;PPARA;NM...</td>\n",
       "      <td>no_barcode</td>\n",
       "      <td>High_Priority_Genes_Blocks</td>\n",
       "      <td>CTAGGGCGCGCCAGTCCTAGATCTACAGGGACATGTACTGAGTTCC...</td>\n",
       "      <td>-61.1</td>\n",
       "      <td>206.29</td>\n",
       "      <td>0.000000</td>\n",
       "      <td>NaN</td>\n",
       "      <td>AGATCTACAGGGACATGTACTGAGTTCCTTCAGATCAGCCACACCT...</td>\n",
       "      <td>206.29</td>\n",
       "      <td>206.29</td>\n",
       "      <td>7.68853</td>\n",
       "      <td>0</td>\n",
       "    </tr>\n",
       "  </tbody>\n",
       "</table>\n",
       "</div>"
      ],
      "text/plain": [
       "   Index                                         Oligo_name  Unnamed: 2  \\\n",
       "0  23647  no_barcode;High_Priority_Viruses_Blocks;NC_012...  no_barcode   \n",
       "1  13876  no_barcode;High_Priority_Viruses_Blocks;NC_001...  no_barcode   \n",
       "2    112  no_barcode;Human_5UTR_Screen;PRSS22;NM_022119;...  no_barcode   \n",
       "3   2768  no_barcode;Human_5UTR_Screen;PGRMC1;NM_006667;...  no_barcode   \n",
       "4   6625  no_barcode;High_Priority_Genes_Blocks;PPARA;NM...  no_barcode   \n",
       "\n",
       "                     Unnamed: 3  \\\n",
       "0  High_Priority_Viruses_Blocks   \n",
       "1  High_Priority_Viruses_Blocks   \n",
       "2             Human_5UTR_Screen   \n",
       "3             Human_5UTR_Screen   \n",
       "4    High_Priority_Genes_Blocks   \n",
       "\n",
       "                                            Sequence   mfe  ires_activity  \\\n",
       "0  CTAGGGCGCGCCAGTCCTAGACGAGGAATTGGAATACGGGTGGAAG... -60.8         206.29   \n",
       "1  CTAGGGCGCGCCAGTCCTTGGTGCTAGAAGGAGATAGCTGCTTGAC... -64.3         206.29   \n",
       "2  CTAGGGCGCGCCAGTCCTACACACCCTGACCCGCATCGCCCTGGGT... -85.9         206.29   \n",
       "3  CTAGGGCGCGCCAGTCCTCCGGCTAGTCTTTGGCCGCCGCCGAACC... -89.4         206.29   \n",
       "4  CTAGGGCGCGCCAGTCCTAGATCTACAGGGACATGTACTGAGTTCC... -61.1         206.29   \n",
       "\n",
       "   promoter_activity  splicing_score  \\\n",
       "0           0.000000             NaN   \n",
       "1           0.006328             NaN   \n",
       "2           0.000000             NaN   \n",
       "3           0.000000             NaN   \n",
       "4           0.000000             NaN   \n",
       "\n",
       "                                                 seq      s1      s2      log  \\\n",
       "0  AGACGAGGAATTGGAATACGGGTGGAAGAAATGGGGGAAAACATTG...  206.29  206.29  7.68853   \n",
       "1  TGGTGCTAGAAGGAGATAGCTGCTTGACAATCATGGCAAACGACAA...  206.29  206.29  7.68853   \n",
       "2  ACACACCCTGACCCGCATCGCCCTGGGTCTCTCGAGCCTGCTGCCT...  206.29  206.29  7.68853   \n",
       "3  CCGGCTAGTCTTTGGCCGCCGCCGAACCCCGCGCGCCACTCGCTCG...  206.29  206.29  7.68853   \n",
       "4  AGATCTACAGGGACATGTACTGAGTTCCTTCAGATCAGCCACACCT...  206.29  206.29  7.68853   \n",
       "\n",
       "   label  \n",
       "0      0  \n",
       "1      0  \n",
       "2      0  \n",
       "3      0  \n",
       "4      0  "
      ]
     },
     "execution_count": 23,
     "metadata": {},
     "output_type": "execute_result"
    }
   ],
   "source": [
    "df = pd.read_csv(\"../dataset/train/train_set.csv\")\n",
    "df.head()"
   ]
  },
  {
   "cell_type": "code",
   "execution_count": 25,
   "metadata": {},
   "outputs": [],
   "source": [
    "seqs = one_hot_encode(df[['Sequence']])"
   ]
  },
  {
   "cell_type": "code",
   "execution_count": 27,
   "metadata": {},
   "outputs": [
    {
     "name": "stdout",
     "output_type": "stream",
     "text": [
      "(10, 4, 212)\n"
     ]
    }
   ],
   "source": [
    "print(seqs[:10].shape)"
   ]
  },
  {
   "cell_type": "code",
   "execution_count": 28,
   "metadata": {},
   "outputs": [
    {
     "name": "stdout",
     "output_type": "stream",
     "text": [
      "(10, 212, 212)\n"
     ]
    }
   ],
   "source": [
    "ppms = prototype_ppms_fast(seqs)\n",
    "print(ppms[:10].shape)"
   ]
  },
  {
   "cell_type": "code",
   "execution_count": 33,
   "metadata": {},
   "outputs": [
    {
     "name": "stdout",
     "output_type": "stream",
     "text": [
      "[0 0 0 0 0 0 0 0 0 0]\n",
      "[0 1]\n"
     ]
    }
   ],
   "source": [
    "# need to convert y into binary classifications\n",
    "THRESHOLD = 600\n",
    "y = np.where(df['ires_activity'] >= THRESHOLD, 1, 0)\n",
    "print(y[:10])\n",
    "print(np.unique(y))"
   ]
  },
  {
   "cell_type": "code",
   "execution_count": 68,
   "metadata": {},
   "outputs": [],
   "source": [
    "seq_train, seq_test, ppm_train, ppm_test, y_train, y_test = train_test_split(seqs, ppms, y)"
   ]
  },
  {
   "cell_type": "code",
   "execution_count": null,
   "metadata": {},
   "outputs": [],
   "source": [
    "#parameters\n",
    "LOSS = 'mse'\n",
    "LR = 0.0001\n",
    "EPOCHS = 300\n",
    "LATENT_DIM = 64\n",
    "# try larger batch sizes and latent dims (try 64)\n",
    "BATCH_SIZE = 64\n",
    "OUTPUT_ACT = 'sigmoid'\n",
    "# INPUT_ACT = 'relu'\n",
    "INTERNAL_ACT = tfkl.LeakyReLU()\n",
    "ES = tfk.callbacks.EarlyStopping(patience=10,restore_best_weights=True,monitor='val_loss')\n",
    "OPT = tfk.optimizers.Adam(learning_rate = LR)"
   ]
  },
  {
   "cell_type": "code",
   "execution_count": 38,
   "metadata": {},
   "outputs": [],
   "source": [
    "sandstorm = create_SANDSTORM(seq_len=seqs.shape[2],\n",
    "                                         ppm_len=ppms.shape[2],\n",
    "                                         latent_dim=LATENT_DIM,\n",
    "                                         internal_activation=INTERNAL_ACT,\n",
    "                                         output_activation=OUTPUT_ACT,)\n",
    "\n",
    "sandstorm.compile(optimizer=OPT,loss=LOSS,metrics='mse')"
   ]
  },
  {
   "cell_type": "code",
   "execution_count": 45,
   "metadata": {},
   "outputs": [
    {
     "name": "stdout",
     "output_type": "stream",
     "text": [
      "Epoch 1/300\n",
      "1564/1564 [==============================] - 27s 16ms/step - loss: 0.1038 - mse: 0.1038 - val_loss: 0.0851 - val_mse: 0.0851\n",
      "Epoch 2/300\n",
      "1564/1564 [==============================] - 13s 8ms/step - loss: 0.0877 - mse: 0.0877 - val_loss: 0.0843 - val_mse: 0.0843\n",
      "Epoch 3/300\n",
      "1564/1564 [==============================] - 12s 8ms/step - loss: 0.0867 - mse: 0.0867 - val_loss: 0.0837 - val_mse: 0.0837\n",
      "Epoch 4/300\n",
      "1564/1564 [==============================] - 12s 8ms/step - loss: 0.0861 - mse: 0.0861 - val_loss: 0.0838 - val_mse: 0.0838\n",
      "Epoch 5/300\n",
      "1564/1564 [==============================] - 12s 7ms/step - loss: 0.0852 - mse: 0.0852 - val_loss: 0.0833 - val_mse: 0.0833\n",
      "Epoch 6/300\n",
      "1564/1564 [==============================] - 13s 8ms/step - loss: 0.0846 - mse: 0.0846 - val_loss: 0.0832 - val_mse: 0.0832\n",
      "Epoch 7/300\n",
      "1564/1564 [==============================] - 13s 8ms/step - loss: 0.0844 - mse: 0.0844 - val_loss: 0.0832 - val_mse: 0.0832\n",
      "Epoch 8/300\n",
      "1564/1564 [==============================] - 12s 8ms/step - loss: 0.0839 - mse: 0.0839 - val_loss: 0.0833 - val_mse: 0.0833\n",
      "Epoch 9/300\n",
      "1564/1564 [==============================] - 12s 8ms/step - loss: 0.0835 - mse: 0.0835 - val_loss: 0.0832 - val_mse: 0.0832\n",
      "Epoch 10/300\n",
      "1564/1564 [==============================] - 13s 8ms/step - loss: 0.0836 - mse: 0.0836 - val_loss: 0.0830 - val_mse: 0.0830\n",
      "Epoch 11/300\n",
      "1564/1564 [==============================] - 12s 8ms/step - loss: 0.0831 - mse: 0.0831 - val_loss: 0.0838 - val_mse: 0.0838\n",
      "Epoch 12/300\n",
      "1564/1564 [==============================] - 12s 8ms/step - loss: 0.0829 - mse: 0.0829 - val_loss: 0.0832 - val_mse: 0.0832\n",
      "Epoch 13/300\n",
      "1564/1564 [==============================] - 12s 8ms/step - loss: 0.0824 - mse: 0.0824 - val_loss: 0.0833 - val_mse: 0.0833\n",
      "Epoch 14/300\n",
      "1564/1564 [==============================] - 12s 8ms/step - loss: 0.0824 - mse: 0.0824 - val_loss: 0.0836 - val_mse: 0.0836\n",
      "Epoch 15/300\n",
      "1564/1564 [==============================] - 13s 8ms/step - loss: 0.0819 - mse: 0.0819 - val_loss: 0.0837 - val_mse: 0.0837\n",
      "Epoch 16/300\n",
      "1564/1564 [==============================] - 12s 8ms/step - loss: 0.0817 - mse: 0.0817 - val_loss: 0.0834 - val_mse: 0.0834\n",
      "Epoch 17/300\n",
      "1564/1564 [==============================] - 12s 8ms/step - loss: 0.0814 - mse: 0.0814 - val_loss: 0.0835 - val_mse: 0.0835\n",
      "Epoch 18/300\n",
      "1564/1564 [==============================] - 12s 8ms/step - loss: 0.0813 - mse: 0.0813 - val_loss: 0.0836 - val_mse: 0.0836\n",
      "Epoch 19/300\n",
      "1564/1564 [==============================] - 12s 8ms/step - loss: 0.0808 - mse: 0.0808 - val_loss: 0.0837 - val_mse: 0.0837\n",
      "Epoch 20/300\n",
      "1564/1564 [==============================] - 15s 10ms/step - loss: 0.0806 - mse: 0.0806 - val_loss: 0.0840 - val_mse: 0.0840\n",
      "287.49263191223145\n"
     ]
    }
   ],
   "source": [
    "import time\n",
    "\n",
    "time_start = time.time()\n",
    "sandstorm.fit([seq_train,ppm_train],\n",
    "              y_train,\n",
    "              batch_size=BATCH_SIZE,\n",
    "              epochs=EPOCHS,\n",
    "              validation_data = [[seq_test,ppm_test],y_test],\n",
    "             callbacks=ES)\n",
    "\n",
    "print(time.time()-time_start)"
   ]
  },
  {
   "cell_type": "code",
   "execution_count": 46,
   "metadata": {},
   "outputs": [
    {
     "name": "stdout",
     "output_type": "stream",
     "text": [
      "391/391 [==============================] - 3s 5ms/step\n"
     ]
    }
   ],
   "source": [
    "y_preds = sandstorm.predict([seq_train, ppm_train])"
   ]
  },
  {
   "cell_type": "code",
   "execution_count": 47,
   "metadata": {},
   "outputs": [
    {
     "name": "stdout",
     "output_type": "stream",
     "text": [
      "[[0.11290755]\n",
      " [0.0148809 ]\n",
      " [0.18952687]\n",
      " ...\n",
      " [0.14094493]\n",
      " [0.13099067]\n",
      " [0.16070028]]\n",
      "[8.5352256e-04 1.0205421e-03 1.7118352e-03 ... 8.4448200e-01 8.4571040e-01\n",
      " 8.6411458e-01]\n"
     ]
    }
   ],
   "source": [
    "print(y_preds)\n",
    "print(np.unique(y_preds))"
   ]
  },
  {
   "cell_type": "code",
   "execution_count": 57,
   "metadata": {},
   "outputs": [
    {
     "name": "stdout",
     "output_type": "stream",
     "text": [
      "391/391 [==============================] - 2s 5ms/step\n",
      "r2_score is: -0.07130306017533017\n",
      "spearmanr is: SignificanceResult(statistic=0.21028715567527406, pvalue=5.43954935742242e-125)\n",
      "pearsonr is: PearsonRResult(statistic=0.210287155675274, pvalue=5.439549357417305e-125)\n"
     ]
    },
    {
     "data": {
      "text/plain": [
       "Text(37.597222222222214, 0.5, 'Predicted IRES activity (SANDSTORM)')"
      ]
     },
     "execution_count": 57,
     "metadata": {},
     "output_type": "execute_result"
    },
    {
     "data": {
      "image/png": "[encoded data removed]",
      "text/plain": [
       "<Figure size 600x600 with 3 Axes>"
      ]
     },
     "metadata": {},
     "output_type": "display_data"
    }
   ],
   "source": [
    "y_preds_score = sandstorm.predict([seq_train,ppm_train])[:,0]\n",
    "y_preds = np.where(y_preds_score >= 0.5, 1, 0)\n",
    "r = spearmanr(y_train,y_preds)\n",
    "\n",
    "print('r2_score is:',r2_score(y_train,y_preds))\n",
    "print('spearmanr is:',spearmanr(y_train,y_preds))\n",
    "print('pearsonr is:',pearsonr(y_train,y_preds))\n",
    "\n",
    "# plt.figure(figsize=[6,4])\n",
    "# plt.scatter(y_test[:,0],y_preds,alpha=0.1)\n",
    "model_plot(y_train,y_preds)\n",
    "plt.suptitle('IRES Activity (R=%.3f)'%r[0])\n",
    "# plt.suptitle('')\n",
    "plt.xlabel('Experimental IRES activity')\n",
    "plt.ylabel('Predicted IRES activity (SANDSTORM)')"
   ]
  },
  {
   "cell_type": "code",
   "execution_count": null,
   "metadata": {},
   "outputs": [],
   "source": [
    "y_train_binary = np.where(y_train >= 0.5, 1, 0)"
   ]
  },
  {
   "cell_type": "code",
   "execution_count": 63,
   "metadata": {},
   "outputs": [
    {
     "name": "stdout",
     "output_type": "stream",
     "text": [
      "[[11143    56]\n",
      " [ 1197   109]]\n",
      "ACC :  0.8998000799680128\n",
      "SN :  0.08346094946401225\n",
      "SP :  0.9949995535315653\n",
      "MCC :  0.2102871556752741\n",
      "AUC :  0.7443248255457069\n",
      "F1-sorce :  0.14819850441876276\n",
      "AUPR :  0.33410895979381916\n"
     ]
    }
   ],
   "source": [
    "# evaluation on our data...\n",
    "acc = accuracy_score(y_train_binary, y_preds)\n",
    "sn = recall_score(y_train_binary, y_preds)\n",
    "mcc = matthews_corrcoef(y_train_binary, y_preds)\n",
    "c_matrix = confusion_matrix(y_train_binary, y_preds)\n",
    "print(c_matrix)\n",
    "tn, fp, fn, tp = c_matrix.ravel()\n",
    "sp = tn / (tn + fp)\n",
    "auroc = roc_auc_score(y_train_binary, y_preds_score)\n",
    "f1 = f1_score(y_train_binary, y_preds.reshape(-1))\n",
    "lr_precision, lr_recall, _ = precision_recall_curve(y_train_binary, y_preds_score)\n",
    "aupr=auc(lr_recall,lr_precision)\n",
    "\n",
    "print(\"ACC : \", acc)\n",
    "print(\"SN : \", sn)\n",
    "print(\"SP : \", sp)\n",
    "print(\"MCC : \", mcc)\n",
    "print(\"AUC : \", auroc)\n",
    "print(\"F1-sorce : \", f1)\n",
    "print(\"AUPR : \", aupr)"
   ]
  },
  {
   "cell_type": "code",
   "execution_count": 64,
   "metadata": {},
   "outputs": [
    {
     "name": "stdout",
     "output_type": "stream",
     "text": [
      "(2, 2)\n"
     ]
    }
   ],
   "source": [
    "print(c_matrix.shape)"
   ]
  },
  {
   "cell_type": "code",
   "execution_count": 65,
   "metadata": {},
   "outputs": [
    {
     "data": {
      "image/png": "[encoded data removed]",
      "text/plain": [
       "<Figure size 640x480 with 2 Axes>"
      ]
     },
     "metadata": {},
     "output_type": "display_data"
    }
   ],
   "source": [
    "disp = ConfusionMatrixDisplay(confusion_matrix=c_matrix)\n",
    "disp.plot()\n",
    "plt.show()"
   ]
  },
  {
   "cell_type": "code",
   "execution_count": 69,
   "metadata": {},
   "outputs": [
    {
     "name": "stdout",
     "output_type": "stream",
     "text": [
      "131/131 [==============================] - 1s 5ms/step\n",
      "(4169,)\n",
      "(4169,)\n",
      "r2_score is: -0.06308566756856693\n",
      "spearmanr is: SignificanceResult(statistic=0.21957407054521333, pvalue=1.0869582286763623e-46)\n",
      "pearsonr is: PearsonRResult(statistic=0.21957407054521325, pvalue=1.0869582286765414e-46)\n"
     ]
    },
    {
     "data": {
      "text/plain": [
       "Text(37.597222222222214, 0.5, 'Predicted IRES activity (SANDSTORM)')"
      ]
     },
     "execution_count": 69,
     "metadata": {},
     "output_type": "execute_result"
    },
    {
     "data": {
      "image/png": "[encoded data removed]",
      "text/plain": [
       "<Figure size 600x600 with 3 Axes>"
      ]
     },
     "metadata": {},
     "output_type": "display_data"
    }
   ],
   "source": [
    "y_preds_test_score = sandstorm.predict([seq_test,ppm_test])[:,0]\n",
    "y_preds_test = np.where(y_preds_test_score >= 0.5, 1, 0)\n",
    "print(y_preds_test.shape)\n",
    "print(y_test.shape)\n",
    "r = spearmanr(y_test,y_preds_test)\n",
    "\n",
    "print('r2_score is:',r2_score(y_test,y_preds_test))\n",
    "print('spearmanr is:',spearmanr(y_test,y_preds_test))\n",
    "print('pearsonr is:',pearsonr(y_test,y_preds_test))\n",
    "\n",
    "# plt.figure(figsize=[6,4])\n",
    "# plt.scatter(y_test[:,0],y_preds,alpha=0.1)\n",
    "model_plot(y_test,y_preds_test)\n",
    "plt.suptitle('IRES Activity (R=%.3f)'%r[0])\n",
    "# plt.suptitle('')\n",
    "plt.xlabel('Experimental IRES activity')\n",
    "plt.ylabel('Predicted IRES activity (SANDSTORM)')"
   ]
  },
  {
   "cell_type": "code",
   "execution_count": 70,
   "metadata": {},
   "outputs": [
    {
     "name": "stdout",
     "output_type": "stream",
     "text": [
      "[[3738   21]\n",
      " [ 372   38]]\n",
      "ACC :  0.9057327896378028\n",
      "SN :  0.09268292682926829\n",
      "SP :  0.994413407821229\n",
      "MCC :  0.21957407054521327\n",
      "AUC :  0.7607900388660709\n",
      "F1-sorce :  0.16204690831556504\n",
      "AUPR :  0.34539046225579945\n"
     ]
    }
   ],
   "source": [
    "# evaluation on our data...\n",
    "acc = accuracy_score(y_test, y_preds_test)\n",
    "sn = recall_score(y_test, y_preds_test)\n",
    "mcc = matthews_corrcoef(y_test, y_preds_test)\n",
    "c_matrix = confusion_matrix(y_test, y_preds_test)\n",
    "print(c_matrix)\n",
    "tn, fp, fn, tp = c_matrix.ravel()\n",
    "sp = tn / (tn + fp)\n",
    "auroc = roc_auc_score(y_test, y_preds_test_score)\n",
    "f1 = f1_score(y_test, y_preds_test.reshape(-1))\n",
    "lr_precision, lr_recall, _ = precision_recall_curve(y_test, y_preds_test_score)\n",
    "aupr=auc(lr_recall,lr_precision)\n",
    "\n",
    "print(\"ACC : \", acc)\n",
    "print(\"SN : \", sn)\n",
    "print(\"SP : \", sp)\n",
    "print(\"MCC : \", mcc)\n",
    "print(\"AUC : \", auroc)\n",
    "print(\"F1-sorce : \", f1)\n",
    "print(\"AUPR : \", aupr)"
   ]
  },
  {
   "cell_type": "code",
   "execution_count": 71,
   "metadata": {},
   "outputs": [
    {
     "data": {
      "image/png": "[encoded data removed]",
      "text/plain": [
       "<Figure size 640x480 with 2 Axes>"
      ]
     },
     "metadata": {},
     "output_type": "display_data"
    }
   ],
   "source": [
    "disp = ConfusionMatrixDisplay(confusion_matrix=c_matrix)\n",
    "disp.plot()\n",
    "plt.show()"
   ]
  },
  {
   "cell_type": "markdown",
   "metadata": {},
   "source": [
    "Testing Sandstorm tested on our data split"
   ]
  },
  {
   "cell_type": "code",
   "execution_count": null,
   "metadata": {},
   "outputs": [
    {
     "name": "stdout",
     "output_type": "stream",
     "text": [
      "<bound method NDFrame.head of      Unnamed: 0  Index                                         Oligo_name  \\\n",
      "0            20     21  no_barcode;Human_5UTR_Screen;NDUFC1;NM_0011849...   \n",
      "1            26     27  no_barcode;Human_5UTR_Screen;MAGEA8;NM_0011664...   \n",
      "2            32     33  no_barcode;Human_5UTR_Screen;SSR4;NM_006280;12...   \n",
      "3            38     39  no_barcode;Human_5UTR_Screen;RPL32;NM_00100707...   \n",
      "4            41     42  no_barcode;Human_5UTR_Screen;B4GALT3;NM_003779...   \n",
      "..          ...    ...                                                ...   \n",
      "654       29680  29681  8nt_barcode;Human_5UTR_Screen;AGTRAP;NM_001040...   \n",
      "655       29709  29710  8nt_barcode;Human_5UTR_Screen;CHI3L2;NM_001025...   \n",
      "656       29716  29717  8nt_barcode;Human_5UTR_Screen;ZNF250;NM_021061...   \n",
      "657       29943  29944  8nt_barcode;Human_5UTR_Screen;TMCO1;NM_0012561...   \n",
      "658       29974  29975  8nt_barcode;Human_5UTR_Screen;ANXA2;NM_0010028...   \n",
      "\n",
      "                                              Sequence    mfe  ires_activity  \\\n",
      "0    CTAGGGCGCGCCAGTCCTGACTACAAGGAGACAGAAGGCTGAGGCC...  -80.5        1065.00   \n",
      "1    CTAGGGCGCGCCAGTCCTCTTTGCCAGGAGGCTGCACCCTGAGATG...  -77.8        2170.60   \n",
      "2    CTAGGGCGCGCCAGTCCTACAATGCCGGCCCAGCCGTTCGGTGCGC...  -80.8        1994.90   \n",
      "3    CTAGGGCGCGCCAGTCCTGCCAGCTTCGGAAAGGGAGGGAAAGCAA...  -82.2         539.44   \n",
      "4    CTAGGGCGCGCCAGTCCTCAGCAAAAGACCAGCTGGTCCCAGATTC...  -57.7         936.88   \n",
      "..                                                 ...    ...            ...   \n",
      "654  CTAGGGCGCGCCAGTCCTTGTTGTAAGGGTTGGAGTGGCCGCAACG... -101.3        1453.30   \n",
      "655  CTAGGGCGCGCCAGTCCTGGAGCCGCGTCGAAACCTCAGTGGATAA...  -74.0       24322.00   \n",
      "656  CTAGGGCGCGCCAGTCCTAGTCATCTGTCTGAAGGTGCTGCGGGAT...  -91.5        1959.80   \n",
      "657  CTAGGGCGCGCCAGTCCTCTCTCTCGTTCCGGTGCTATGCCCCGGA...  -79.8         631.78   \n",
      "658  CTAGGGCGCGCCAGTCCTCAGGGTGCTTTGGGGACGCTCTCAGCTC...  -85.6        1187.50   \n",
      "\n",
      "     promoter_activity  splicing_score  \n",
      "0             0.039385             NaN  \n",
      "1             0.000000         -1.1699  \n",
      "2             0.000000         -3.6061  \n",
      "3             0.000000             NaN  \n",
      "4             0.000000         -2.0054  \n",
      "..                 ...             ...  \n",
      "654                NaN         -5.3818  \n",
      "655           0.000000         -3.8683  \n",
      "656           0.000000         -4.2329  \n",
      "657           1.227000         -1.2943  \n",
      "658                NaN             NaN  \n",
      "\n",
      "[659 rows x 8 columns]>\n",
      "(659, 8)\n"
     ]
    }
   ],
   "source": [
    "# get the dataset we are teesting\n",
    "active_df = pd.read_csv('../dataset/external_testing_dataset/Human_5UTR_HMM_ires_activity.csv')\n",
    "print(active_df.head)\n",
    "print(active_df.shape)"
   ]
  },
  {
   "cell_type": "code",
   "execution_count": 77,
   "metadata": {},
   "outputs": [
    {
     "name": "stdout",
     "output_type": "stream",
     "text": [
      "(659, 4, 212)\n"
     ]
    }
   ],
   "source": [
    "seqs = one_hot_encode(active_df[['Sequence']])\n",
    "print(seqs.shape)\n",
    "ppms = prototype_ppms_fast(seqs)\n",
    "y = np.where(active_df['ires_activity'] > THRESHOLD, 1, 0)"
   ]
  },
  {
   "cell_type": "code",
   "execution_count": 79,
   "metadata": {},
   "outputs": [
    {
     "name": "stdout",
     "output_type": "stream",
     "text": [
      "21/21 [==============================] - 0s 5ms/step\n",
      "[[106   3]\n",
      " [539  11]]\n",
      "ACC :  0.17754172989377845\n",
      "SN :  0.02\n",
      "SP :  0.9724770642201835\n",
      "MCC :  -0.019383762189576745\n",
      "AUC :  0.5213844870725605\n",
      "F1-sorce :  0.03900709219858156\n",
      "AUPR :  0.8344418520693082\n"
     ]
    },
    {
     "data": {
      "image/png": "[encoded data removed]",
      "text/plain": [
       "<Figure size 640x480 with 2 Axes>"
      ]
     },
     "metadata": {},
     "output_type": "display_data"
    }
   ],
   "source": [
    "# evaluation on our data...\n",
    "y_active_score = sandstorm.predict([seqs,ppms])[:,0]\n",
    "y_active = np.where(y_active_score >= 0.5, 1, 0)\n",
    "\n",
    "acc = accuracy_score(y, y_active)\n",
    "sn = recall_score(y, y_active)\n",
    "mcc = matthews_corrcoef(y, y_active)\n",
    "c_matrix = confusion_matrix(y, y_active)\n",
    "print(c_matrix)\n",
    "tn, fp, fn, tp = c_matrix.ravel()\n",
    "sp = tn / (tn + fp)\n",
    "auroc = roc_auc_score(y, y_active_score)\n",
    "f1 = f1_score(y, y_active.reshape(-1))\n",
    "lr_precision, lr_recall, _ = precision_recall_curve(y, y_active_score)\n",
    "aupr=auc(lr_recall,lr_precision)\n",
    "\n",
    "print(\"ACC : \", acc)\n",
    "print(\"SN : \", sn)\n",
    "print(\"SP : \", sp)\n",
    "print(\"MCC : \", mcc)\n",
    "print(\"AUC : \", auroc)\n",
    "print(\"F1-sorce : \", f1)\n",
    "print(\"AUPR : \", aupr)\n",
    "\n",
    "disp = ConfusionMatrixDisplay(confusion_matrix=c_matrix)\n",
    "disp.plot()\n",
    "plt.show()"
   ]
  }
 ],
 "metadata": {
  "kernelspec": {
   "display_name": "sandstorm",
   "language": "python",
   "name": "python3"
  },
  "language_info": {
   "codemirror_mode": {
    "name": "ipython",
    "version": 3
   },
   "file_extension": ".py",
   "mimetype": "text/x-python",
   "name": "python",
   "nbconvert_exporter": "python",
   "pygments_lexer": "ipython3",
   "version": "3.10.13"
  }
 },
 "nbformat": 4,
 "nbformat_minor": 2
}
