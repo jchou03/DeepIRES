{
 "cells": [
  {
   "cell_type": "markdown",
   "metadata": {},
   "source": [
    "notebook to test DeepIRES's performance"
   ]
  },
  {
   "cell_type": "code",
   "execution_count": 15,
   "metadata": {},
   "outputs": [],
   "source": [
    "from sklearn.metrics import roc_auc_score, average_precision_score, f1_score,accuracy_score,recall_score,matthews_corrcoef,confusion_matrix,roc_curve, precision_recall_curve\n",
    "import numpy as np\n",
    "import pandas as pd\n",
    "import os\n",
    "from sklearn.metrics import auc\n",
    "import keras.backend as k\n",
    "from scipy import stats\n",
    "from model import deepires_model\n",
    "#忽略\n",
    "import os\n",
    "os.environ['TF_CPP_MIN_LOG_LEVEL'] = '2'\n",
    "import matplotlib.pyplot as plt\n",
    "import tensorflow as tf"
   ]
  },
  {
   "cell_type": "code",
   "execution_count": 16,
   "metadata": {},
   "outputs": [],
   "source": [
    "def plotROC(test,score):\n",
    "    fpr,tpr,threshold = roc_curve(test, score)\n",
    "    auc_roc = roc_auc_score(test, score)\n",
    "    plt.figure()\n",
    "    font = {'family': 'Times New Roman',\n",
    "         'weight': 'normal',\n",
    "         'size': 22,\n",
    "         }\n",
    "    lw = 3\n",
    "    plt.figure(figsize=(8,8))\n",
    "    plt.plot(fpr, tpr, color='darkorange',lw=lw, label='auROC = %f' %auc_roc)\n",
    "\n",
    "    plt.plot([0, 1], [0, 1], color='navy', lw=lw, linestyle='--')\n",
    "    plt.xlim([-0.01, 1.01])\n",
    "    plt.ylim([-0.01, 1.01])\n",
    "    plt.tick_params(labelsize=20)\n",
    "    plt.xlabel('False Positive Rate',font)\n",
    "    plt.ylabel('True Positive Rate',font)\n",
    "    plt.title('Receiver operating characteristic curve',font)\n",
    "    plt.legend(loc=\"lower right\")\n",
    "    plt.savefig('x.jpg',dpi=350)\n",
    "    plt.show()"
   ]
  },
  {
   "cell_type": "code",
   "execution_count": 17,
   "metadata": {},
   "outputs": [
    {
     "name": "stdout",
     "output_type": "stream",
     "text": [
      "12/12 [==============================] - 1s 12ms/step\n",
      "done predicting\n",
      "ACC :  0.7671957671957672\n",
      "SN :  0.7248677248677249\n",
      "SP :  0.8095238095238095\n",
      "MCC :  0.5363167880704651\n",
      "AUC :  0.8671929677220683\n",
      "F1-sorce :  0.7569060773480663\n",
      "AUPR :  0.8857785560053044\n"
     ]
    }
   ],
   "source": [
    "test = np.load('../dataset/test/balanced_test_set.npz')\n",
    "#test=np.load('C:/Users/czw20/Desktop/python/linear/iresite.npz')\n",
    "X_tes,y_tes = test['X_tes'], test['y_tes']\n",
    "model=deepires_model()\n",
    "# weight_path='../weights/new/' (original weight path)\n",
    "weight_path = '../weights/first'\n",
    "model.load_weights(weight_path).expect_partial()\n",
    "y_pred_1 = model.predict(X_tes)\n",
    "\n",
    "print(\"done predicting\")\n",
    "\n",
    "y_pred=np.where(y_pred_1>0.5,1,0)\n",
    "acc = accuracy_score(y_tes, y_pred)\n",
    "sn = recall_score(y_tes, y_pred)\n",
    "mcc = matthews_corrcoef(y_tes, y_pred)\n",
    "tn, fp, fn, tp = confusion_matrix(y_tes, y_pred).ravel()\n",
    "sp = tn / (tn + fp)\n",
    "auroc = roc_auc_score(y_tes, y_pred_1)\n",
    "f1 = f1_score(y_tes, y_pred.reshape(-1))\n",
    "lr_precision, lr_recall, _ = precision_recall_curve(y_tes, y_pred_1)\n",
    "aupr=auc(lr_recall,lr_precision)\n",
    "\n",
    "print(\"ACC : \", acc)\n",
    "print(\"SN : \", sn)\n",
    "print(\"SP : \", sp)\n",
    "print(\"MCC : \", mcc)\n",
    "print(\"AUC : \", auroc)\n",
    "print(\"F1-sorce : \", f1)\n",
    "print(\"AUPR : \", aupr)"
   ]
  },
  {
   "cell_type": "code",
   "execution_count": 25,
   "metadata": {},
   "outputs": [
    {
     "name": "stdout",
     "output_type": "stream",
     "text": [
      "<class 'numpy.ndarray'>\n"
     ]
    }
   ],
   "source": [
    "# save the numpy predictions to an npz file\n",
    "print(type(y_pred))\n",
    "\n",
    "np.savez(\"../predictions/y_pred_test.npz\", y_pred=y_pred)\n",
    "\n"
   ]
  },
  {
   "cell_type": "code",
   "execution_count": 19,
   "metadata": {},
   "outputs": [],
   "source": [
    "test = np.load('../dataset/test/balanced_test_set.npz')\n"
   ]
  },
  {
   "cell_type": "code",
   "execution_count": 20,
   "metadata": {},
   "outputs": [
    {
     "name": "stdout",
     "output_type": "stream",
     "text": [
      "X_tes\n",
      "y_tes\n"
     ]
    }
   ],
   "source": [
    "for file in test.files:\n",
    "    print(file)"
   ]
  },
  {
   "cell_type": "code",
   "execution_count": 21,
   "metadata": {},
   "outputs": [
    {
     "name": "stdout",
     "output_type": "stream",
     "text": [
      "[[1]\n",
      " [1]\n",
      " [1]\n",
      " [1]\n",
      " [1]\n",
      " [1]\n",
      " [1]\n",
      " [1]\n",
      " [1]\n",
      " [1]]\n"
     ]
    }
   ],
   "source": [
    "print(test['y_tes'][:10])"
   ]
  },
  {
   "cell_type": "code",
   "execution_count": 22,
   "metadata": {},
   "outputs": [
    {
     "name": "stdout",
     "output_type": "stream",
     "text": [
      "[[4 2 4 ... 1 4 3]\n",
      " [3 2 4 ... 2 4 3]\n",
      " [1 3 1 ... 1 1 1]\n",
      " ...\n",
      " [3 2 1 ... 3 1 2]\n",
      " [2 2 4 ... 3 3 3]\n",
      " [1 2 4 ... 3 4 4]]\n"
     ]
    }
   ],
   "source": [
    "print(test['X_tes'][:10])"
   ]
  },
  {
   "cell_type": "code",
   "execution_count": 23,
   "metadata": {},
   "outputs": [],
   "source": [
    "# seaborn needs python versions 3.8+, while DeepIRES was developed in python 3.7\n",
    "# save the \n"
   ]
  }
 ],
 "metadata": {
  "kernelspec": {
   "display_name": "DeepIRES",
   "language": "python",
   "name": "python3"
  },
  "language_info": {
   "codemirror_mode": {
    "name": "ipython",
    "version": 3
   },
   "file_extension": ".py",
   "mimetype": "text/x-python",
   "name": "python",
   "nbconvert_exporter": "python",
   "pygments_lexer": "ipython3",
   "version": "3.7.16"
  }
 },
 "nbformat": 4,
 "nbformat_minor": 2
}
