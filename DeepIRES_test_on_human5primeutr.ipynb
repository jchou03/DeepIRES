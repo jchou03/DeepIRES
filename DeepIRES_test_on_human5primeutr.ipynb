{
 "cells": [
  {
   "cell_type": "markdown",
   "metadata": {},
   "source": [
    "testing deepIRES on our dataset"
   ]
  },
  {
   "cell_type": "code",
   "execution_count": 1,
   "metadata": {},
   "outputs": [],
   "source": [
    "import numpy as np\n",
    "import pandas as pd\n",
    "from model.model import deepires_model\n",
    "from model.sequence_encode import get_data_onehot\n",
    "from Bio import SeqIO\n",
    "from sklearn.metrics import roc_auc_score, average_precision_score, f1_score,accuracy_score,recall_score,matthews_corrcoef,confusion_matrix,roc_curve, precision_recall_curve, auc\n"
   ]
  },
  {
   "cell_type": "code",
   "execution_count": 2,
   "metadata": {},
   "outputs": [
    {
     "name": "stdout",
     "output_type": "stream",
     "text": [
      "<bound method NDFrame.head of      Unnamed: 0  Index                                         Oligo_name  \\\n",
      "0            20     21  no_barcode;Human_5UTR_Screen;NDUFC1;NM_0011849...   \n",
      "1            26     27  no_barcode;Human_5UTR_Screen;MAGEA8;NM_0011664...   \n",
      "2            32     33  no_barcode;Human_5UTR_Screen;SSR4;NM_006280;12...   \n",
      "3            38     39  no_barcode;Human_5UTR_Screen;RPL32;NM_00100707...   \n",
      "4            41     42  no_barcode;Human_5UTR_Screen;B4GALT3;NM_003779...   \n",
      "..          ...    ...                                                ...   \n",
      "654       29680  29681  8nt_barcode;Human_5UTR_Screen;AGTRAP;NM_001040...   \n",
      "655       29709  29710  8nt_barcode;Human_5UTR_Screen;CHI3L2;NM_001025...   \n",
      "656       29716  29717  8nt_barcode;Human_5UTR_Screen;ZNF250;NM_021061...   \n",
      "657       29943  29944  8nt_barcode;Human_5UTR_Screen;TMCO1;NM_0012561...   \n",
      "658       29974  29975  8nt_barcode;Human_5UTR_Screen;ANXA2;NM_0010028...   \n",
      "\n",
      "                                              Sequence    mfe  ires_activity  \\\n",
      "0    CTAGGGCGCGCCAGTCCTGACTACAAGGAGACAGAAGGCTGAGGCC...  -80.5        1065.00   \n",
      "1    CTAGGGCGCGCCAGTCCTCTTTGCCAGGAGGCTGCACCCTGAGATG...  -77.8        2170.60   \n",
      "2    CTAGGGCGCGCCAGTCCTACAATGCCGGCCCAGCCGTTCGGTGCGC...  -80.8        1994.90   \n",
      "3    CTAGGGCGCGCCAGTCCTGCCAGCTTCGGAAAGGGAGGGAAAGCAA...  -82.2         539.44   \n",
      "4    CTAGGGCGCGCCAGTCCTCAGCAAAAGACCAGCTGGTCCCAGATTC...  -57.7         936.88   \n",
      "..                                                 ...    ...            ...   \n",
      "654  CTAGGGCGCGCCAGTCCTTGTTGTAAGGGTTGGAGTGGCCGCAACG... -101.3        1453.30   \n",
      "655  CTAGGGCGCGCCAGTCCTGGAGCCGCGTCGAAACCTCAGTGGATAA...  -74.0       24322.00   \n",
      "656  CTAGGGCGCGCCAGTCCTAGTCATCTGTCTGAAGGTGCTGCGGGAT...  -91.5        1959.80   \n",
      "657  CTAGGGCGCGCCAGTCCTCTCTCTCGTTCCGGTGCTATGCCCCGGA...  -79.8         631.78   \n",
      "658  CTAGGGCGCGCCAGTCCTCAGGGTGCTTTGGGGACGCTCTCAGCTC...  -85.6        1187.50   \n",
      "\n",
      "     promoter_activity  splicing_score  \n",
      "0             0.039385             NaN  \n",
      "1             0.000000         -1.1699  \n",
      "2             0.000000         -3.6061  \n",
      "3             0.000000             NaN  \n",
      "4             0.000000         -2.0054  \n",
      "..                 ...             ...  \n",
      "654                NaN         -5.3818  \n",
      "655           0.000000         -3.8683  \n",
      "656           0.000000         -4.2329  \n",
      "657           1.227000         -1.2943  \n",
      "658                NaN             NaN  \n",
      "\n",
      "[659 rows x 8 columns]>\n",
      "(659, 8)\n"
     ]
    }
   ],
   "source": [
    "# get the dataset we are teesting\n",
    "active_df = pd.read_csv('./dataset/external_testing_dataset/Human_5UTR_HMM_ires_activity.csv')\n",
    "print(active_df.head)\n",
    "print(active_df.shape)"
   ]
  },
  {
   "cell_type": "code",
   "execution_count": 3,
   "metadata": {},
   "outputs": [
    {
     "name": "stdout",
     "output_type": "stream",
     "text": [
      "(659,)\n",
      "[1 1 1 0 1 1 1 1 1 1 0 1 0 1 1 0 1 0 0 1 1 1 1 1 1 1 1 1 1 1 1 1 1 1 1 1 1\n",
      " 1 1 1 0 0 0 1 1 1 1 1 0 1 1 1 1 1 1 1 1 1 1 1 1 0 1 1 1 1 1 1 1 1 1 1 1 1\n",
      " 0 1 1 0 0 1 1 1 1 1 0 1 1 1 1 1 0 1 1 0 1 0 1 0 1 1 1 1 1 1 1 1 0 1 1 1 1\n",
      " 1 1 1 0 1 1 1 1 0 1 1 1 1 1 0 1 1 1 1 0 0 1 1 1 1 0 1 1 1 0 1 1 1 0 1 1 0\n",
      " 1 1 1 1 1 1 1 0 0 0 1 1 1 1 1 0 0 1 1 1 1 1 1 1 1 1 1 1 1 1 1 1 1 1 1 1 1\n",
      " 1 1 1 0 1 1 1 1 1 1 1 1 1 1 0 0 1 1 0 1 1 1 1 0 1 1 1 0 1 1 1 1 1 1 1 1 1\n",
      " 1 1 1 0 1 1 1 1 1 1 1 1 1 1 1 0 1 1 0 1 0 0 1 1 1 1 0 1 1 1 1 1 1 1 1 1 0\n",
      " 1 1 1 1 1 0 1 1 1 0 1 1 1 0 1 1 1 1 0 1 1 1 1 1 1 0 1 1 1 1 1 1 0 1 1 1 1\n",
      " 1 1 1 1 1 1 1 1 1 1 1 1 1 1 1 0 1 1 1 1 1 1 1 0 0 1 1 0 1 1 0 1 1 1 0 1 1\n",
      " 1 1 1 1 1 1 1 1 1 0 1 1 1 1 1 1 0 0 1 1 1 1 1 1 1 1 1 1 1 1 1 1 1 0 1 0 1\n",
      " 1 1 0 0 0 1 1 1 0 1 1 1 1 0 1 1 1 1 1 1 1 1 1 1 1 1 0 1 1 1 1 0 0 1 1 1 1\n",
      " 1 1 0 0 1 1 1 1 1 1 1 1 0 1 1 1 0 1 1 1 1 1 1 1 1 1 1 1 0 0 1 1 1 1 1 1 1\n",
      " 1 1 0 1 1 1 1 1 1 0 0 0 1 1 1 0 1 1 1 1 1 1 1 0 1 1 1 1 1 1 1 1 1 1 1 1 1\n",
      " 0 1 1 1 1 1 1 0 1 1 1 1 1 1 1 1 1 1 1 1 1 1 1 1 1 1 1 1 1 1 1 1 1 1 1 1 0\n",
      " 1 1 1 1 1 1 1 1 1 1 1 1 1 1 1 1 1 1 1 1 1 1 1 1 0 0 1 1 0 1 0 1 1 1 0 0 1\n",
      " 1 1 1 1 0 1 1 1 0 1 0 1 0 1 1 1 0 1 1 0 0 1 1 1 1 1 1 1 1 1 1 1 1 1 1 1 1\n",
      " 0 1 0 1 1 1 1 1 1 1 1 1 0 1 1 1 1 1 1 1 1 1 1 1 0 0 0 1 1 1 1 1 1 1 1 1 1\n",
      " 0 0 1 0 1 1 1 1 1 1 1 1 1 1 1 1 1 1 1 1 1 1 1 1 1 1 1 1 1 1]\n"
     ]
    }
   ],
   "source": [
    "y_test = np.where(active_df['ires_activity'] >= 600, 1, 0)\n",
    "print(y_test.shape)\n",
    "print(y_test)"
   ]
  },
  {
   "cell_type": "code",
   "execution_count": 4,
   "metadata": {},
   "outputs": [],
   "source": [
    "# DeepIRES script code\n",
    "def read_fa(path):\n",
    "    res = {}\n",
    "    records = list(SeqIO.parse(path, format='fasta'))\n",
    "    for x in records:\n",
    "        id = str(x.id)\n",
    "        seq = str(x.seq)\n",
    "        res[id] = seq\n",
    "    return res\n",
    "\n",
    "def predict_score(data):\n",
    "    test = []\n",
    "    start = []\n",
    "    stop = []\n",
    "    model = deepires_model()\n",
    "    model.load_weights('weights/first').expect_partial()\n",
    "    for seq in data:\n",
    "        if (len(seq)) > 174:\n",
    "            score = []\n",
    "            i = 1\n",
    "            while i + 173 <= len(seq):\n",
    "                seqq = np.array(seq[i - 1:i + 173]).reshape(1, )\n",
    "                x = get_data_onehot(seqq, maxlen=174)\n",
    "                score.append(model.predict(x,verbose=0)[0][0])\n",
    "                i = i + 50\n",
    "            seqlast = np.array(seq[-174:]).reshape(1, )\n",
    "            x1 = get_data_onehot(seqlast, maxlen=174)\n",
    "            score.append(model.predict(x1,verbose=0)[0][0])\n",
    "            max_score = max(score)\n",
    "            max_index = score.index(max_score)\n",
    "            test.append(max_score)\n",
    "            if max_score == score[-1]:\n",
    "                start.append(len(seq) - 173)\n",
    "                stop.append(len(seq))\n",
    "            else:\n",
    "                startt = 50 * max_index + 1\n",
    "                start.append(startt)\n",
    "                stop.append(startt + 173)\n",
    "        else:\n",
    "            seqq = np.array(seq).reshape(1, )\n",
    "            x = get_data_onehot(seqq, maxlen=174)\n",
    "            test.append(model.predict(x,verbose=0)[0][0])\n",
    "            start.append(1)\n",
    "            stop.append(len(seq))\n",
    "    return test, start, stop"
   ]
  },
  {
   "cell_type": "code",
   "execution_count": 5,
   "metadata": {},
   "outputs": [],
   "source": [
    "# preprocess sequences then save them to np array\n",
    "train_data = np.load('./dataset/train/train_set.npz')"
   ]
  },
  {
   "cell_type": "code",
   "execution_count": 6,
   "metadata": {},
   "outputs": [
    {
     "name": "stdout",
     "output_type": "stream",
     "text": [
      "X_tra\n",
      "y_tra\n"
     ]
    }
   ],
   "source": [
    "for key in train_data:\n",
    "    print(key)"
   ]
  },
  {
   "cell_type": "code",
   "execution_count": 65,
   "metadata": {},
   "outputs": [
    {
     "name": "stdout",
     "output_type": "stream",
     "text": [
      "[[1 3 1 2 3 1 3 3 1 1 4 4 3 3 1 1 4 1 2 3 3 3 4 3 3 1 1 3 1 1 1 4 3 3 3 3\n",
      "  3 1 1 1 1 2 1 4 4 3 4 4 4 3 4 2 1 2 4 2 2 1 2 2 2 1 4 3 4 2 2 1 1 4 1 1\n",
      "  2 1 2 1 4 4 4 3 4 4 3 4 3 3 1 4 3 3 4 2 2 2 1 1 1 1 2 1 1 1 1 3 1 1 4 3\n",
      "  2 2 2 1 3 1 4 3 1 3 1 1 4 1 3 1 3 2 2 4 3 3 1 1 2 1 3 4 4 4 1 3 1 1 3 4\n",
      "  3 3 1 3 3 1 4 4 4 4 3 3 1 4 4 4 3 3 3 2 4 1 1 2 1 4 2 1 1 2]\n",
      " [4 3 3 4 3 2 4 1 3 1 1 3 3 1 3 1 4 1 3 2 4 3 2 4 4 3 1 2 1 1 4 2 1 4 3 3\n",
      "  2 1 1 1 2 3 1 2 1 1 1 2 2 1 1 2 1 4 4 3 3 1 2 3 4 2 2 3 2 1 4 3 1 4 4 1\n",
      "  1 2 1 4 2 3 1 1 3 2 4 1 3 2 2 1 1 2 4 4 3 2 4 3 1 3 3 4 2 1 3 1 1 3 4 4\n",
      "  1 2 4 3 2 4 1 4 2 1 4 3 2 4 4 2 1 3 4 2 1 2 4 3 1 2 1 4 2 4 2 3 1 2 3 3\n",
      "  4 3 3 2 4 2 3 3 4 3 2 2 2 2 1 2 3 1 2 4 3 3 1 3 1 1 3 2 4 2]]\n",
      "(16674, 174)\n"
     ]
    }
   ],
   "source": [
    "print(train_data[\"X_tra\"][:2])\n",
    "print(train_data[\"X_tra\"].shape)"
   ]
  },
  {
   "cell_type": "code",
   "execution_count": 25,
   "metadata": {},
   "outputs": [
    {
     "name": "stdout",
     "output_type": "stream",
     "text": [
      "CTAGGGCGCGCCAGTCCTGACTACAAGGAGACAGAAGGCTGAGGCCGGGGTGCTAGAGAACCTTGCCGTGCTGGAATTCACGTTGACGCCCCCACGGAGCTCTGCTGCAGAGCCCTCGAGTCCCGCACTTCCGGCCGCCAGGTGGCGCTGGTTCTGTTGCCAACTCGGAGAGACTGAGCTGGGCCACGCAAGCGACTCGGACCGATGGTGAG\n",
      "()\n",
      "['CTAGGGCGCGCCAGTCCTGACTACAAGGAGACAGAAGGCTGAGGCCGGGGTGCTAGAGAACCTTGCCGTGCTGGAATTCACGTTGACGCCCCCACGGAGCTCTGCTGCAGAGCCCTCGAGTCCCGCACTTCCGGCCGCCAGGTGGCGCTGGTTCTGTTGCCAACTCGGAGAGACTGAGCTGGGCCACGCAAGCGACTCGGACCGATGGTGAG']\n",
      "[[2 4 3 1 3 3 2 2 3 3 3 3 4 3 2 4 1 3 1 3 1 1 2 2 4 4 3 2 2 3 4 3 2 4 3 3\n",
      "  1 1 4 4 2 1 2 3 4 4 3 1 2 3 2 2 2 2 2 1 2 3 3 1 3 2 4 2 4 3 2 4 3 2 1 3\n",
      "  1 3 2 2 2 4 2 3 1 3 4 2 2 2 3 2 1 2 4 4 2 2 3 3 2 2 3 2 2 1 3 3 4 3 3 2\n",
      "  3 2 4 3 3 4 4 2 4 3 4 4 3 2 2 1 1 2 4 2 3 3 1 3 1 3 1 2 4 3 1 3 2 4 3 3\n",
      "  3 2 2 1 2 3 2 1 1 3 2 3 1 2 4 2 3 3 1 2 2 3 1 4 3 3 4 3 1 3]]\n"
     ]
    }
   ],
   "source": [
    "test_seq = active_df['Sequence'][0]\n",
    "print(test_seq)\n",
    "print(np.array(test_seq).shape)\n",
    "print(np.array(test_seq).reshape(1, ))\n",
    "print(get_data_onehot(np.array(test_seq).reshape(1, ), 174))"
   ]
  },
  {
   "cell_type": "code",
   "execution_count": 64,
   "metadata": {},
   "outputs": [
    {
     "name": "stdout",
     "output_type": "stream",
     "text": [
      "(659,)\n",
      "['CTAGGGCGCGCCAGTCCTGACTACAAGGAGACAGAAGGCTGAGGCCGGGGTGCTAGAGAACCTTGCCGTGCTGGAATTCACGTTGACGCCCCCACGGAGCTCTGCTGCAGAGCCCTCGAGTCCCGCACTTCCGGCCGCCAGGTGGCGCTGGTTCTGTTGCCAACTCGGAGAGACTGAGCTGGGCCACGCAAGCGACTCGGACCGATGGTGAG']\n",
      "(1, 174)\n",
      "[2 4 3 1 3 3 2 2 3 3 3 3 4 3 2 4 1 3 1 3 1 1 2 2 4 4 3 2 2 3 4 3 2 4 3 3 1\n",
      " 1 4 4 2 1 2 3 4 4 3 1 2 3 2 2 2 2 2 1 2 3 3 1 3 2 4 2 4 3 2 4 3 2 1 3 1 3\n",
      " 2 2 2 4 2 3 1 3 4 2 2 2 3 2 1 2 4 4 2 2 3 3 2 2 3 2 2 1 3 3 4 3 3 2 3 2 4\n",
      " 3 3 4 4 2 4 3 4 4 3 2 2 1 1 2 4 2 3 3 1 3 1 3 1 2 4 3 1 3 2 4 3 3 3 2 2 1\n",
      " 2 3 2 1 1 3 2 3 1 2 4 2 3 3 1 2 2 3 1 4 3 3 4 3 1 3]\n"
     ]
    }
   ],
   "source": [
    "test_ndarray = np.array(active_df['Sequence'])\n",
    "print(test_ndarray.shape)\n",
    "print(test_ndarray.reshape(659, 1)[0])\n",
    "updated_ndarray = test_ndarray.reshape(659,1)\n",
    "onehot_data = get_data_onehot(updated_ndarray[0], 174)\n",
    "print(onehot_data.shape)\n",
    "print(onehot_data[0])\n"
   ]
  },
  {
   "cell_type": "code",
   "execution_count": null,
   "metadata": {},
   "outputs": [
    {
     "name": "stdout",
     "output_type": "stream",
     "text": [
      "[2 4 3 1 3 3 2 2 3 3 3 3 4 3 2 4 1 3 1 3 1 1 2 2 4 4 3 2 2 3 4 3 2 4 3 3 1\n",
      " 1 4 4 2 1 2 3 4 4 3 1 2 3 2 2 2 2 2 1 2 3 3 1 3 2 4 2 4 3 2 4 3 2 1 3 1 3\n",
      " 2 2 2 4 2 3 1 3 4 2 2 2 3 2 1 2 4 4 2 2 3 3 2 2 3 2 2 1 3 3 4 3 3 2 3 2 4\n",
      " 3 3 4 4 2 4 3 4 4 3 2 2 1 1 2 4 2 3 3 1 3 1 3 1 2 4 3 1 3 2 4 3 3 3 2 2 1\n",
      " 2 3 2 1 1 3 2 3 1 2 4 2 3 3 1 2 2 3 1 4 3 3 4 3 1 3]\n",
      "(659, 174)\n",
      "[2 4 3 1 3 3 2 2 3 3 3 3 4 3 2 4 1 3 1 3 1 1 2 2 4 4 3 2 2 3 4 3 2 4 3 3 1\n",
      " 1 4 4 2 1 2 3 4 4 3 1 2 3 2 2 2 2 2 1 2 3 3 1 3 2 4 2 4 3 2 4 3 2 1 3 1 3\n",
      " 2 2 2 4 2 3 1 3 4 2 2 2 3 2 1 2 4 4 2 2 3 3 2 2 3 2 2 1 3 3 4 3 3 2 3 2 4\n",
      " 3 3 4 4 2 4 3 4 4 3 2 2 1 1 2 4 2 3 3 1 3 1 3 1 2 4 3 1 3 2 4 3 3 3 2 2 1\n",
      " 2 3 2 1 1 3 2 3 1 2 4 2 3 3 1 2 2 3 1 4 3 3 4 3 1 3]\n"
     ]
    }
   ],
   "source": [
    "results = []\n",
    "\n",
    "for reshaped_arr in updated_ndarray:\n",
    "    onehot = get_data_onehot(reshaped_arr, 174)\n",
    "    results.append(onehot[0])\n",
    "\n",
    "result_ndarray = np.array(results)\n",
    "print(result_ndarray.shape)\n",
    "print(result_ndarray[0])"
   ]
  },
  {
   "cell_type": "code",
   "execution_count": 68,
   "metadata": {},
   "outputs": [],
   "source": [
    "# save the training set into a npz file\n",
    "filename = \"./dataset/external_testing_dataset/ires_activity.npz\"\n",
    "np.savez(filename, X=result_ndarray, y=y_test)"
   ]
  },
  {
   "cell_type": "code",
   "execution_count": 69,
   "metadata": {},
   "outputs": [
    {
     "name": "stdout",
     "output_type": "stream",
     "text": [
      "X\n",
      "(659, 174)\n",
      "y\n",
      "(659,)\n"
     ]
    }
   ],
   "source": [
    "# test that the data matches up\n",
    "ires_activity_from_npz = np.load(\"./dataset/external_testing_dataset/ires_activity.npz\")\n",
    "for key in ires_activity_from_npz:\n",
    "    print(key)\n",
    "    print(ires_activity_from_npz[key].shape)"
   ]
  },
  {
   "cell_type": "markdown",
   "metadata": {},
   "source": [
    "Testing DeepIRES performance on our IRES dataset using their pretrained weights"
   ]
  },
  {
   "cell_type": "code",
   "execution_count": 5,
   "metadata": {},
   "outputs": [],
   "source": [
    "sequences = active_df['Sequence'].tolist()"
   ]
  },
  {
   "cell_type": "code",
   "execution_count": 6,
   "metadata": {},
   "outputs": [
    {
     "name": "stdout",
     "output_type": "stream",
     "text": [
      "WARNING:tensorflow:From c:\\Users\\jared\\Documents\\GitHub\\DeepIRES\\model\\model.py:119: The name tf.keras.initializers.RandomNormal is deprecated. Please use tf.compat.v1.keras.initializers.RandomNormal instead.\n",
      "\n"
     ]
    }
   ],
   "source": [
    "score, start, stop = predict_score(sequences)"
   ]
  },
  {
   "cell_type": "code",
   "execution_count": 7,
   "metadata": {},
   "outputs": [
    {
     "name": "stdout",
     "output_type": "stream",
     "text": [
      "[0.23400979, 0.92866194, 0.9907765, 0.4196611, 0.6290846, 0.91535705, 0.056642294, 0.10404917, 0.09062015, 0.7255848, 0.73405385, 0.27005407, 0.42994255, 0.42719737, 0.67927694, 0.97456944, 0.36581135, 0.79927844, 0.6607211, 0.36848372, 0.96207774, 0.60490525, 0.68157715, 0.44340193, 0.39013246, 0.45051497, 0.2492027, 0.3801907, 0.97129613, 0.3029753, 0.9586837, 0.93696815, 0.2590931, 0.84421384, 0.40574, 0.9547239, 0.9621006, 0.43408298, 0.97613436, 0.8887957, 0.4403592, 0.30287257, 0.36931804, 0.41538072, 0.3850438, 0.2538266, 0.9637609, 0.37469167, 0.09210321, 0.329754, 0.6671131, 0.99709356, 0.14237624, 0.73971254, 0.92578083, 0.9645497, 0.8995396, 0.6338769, 0.85344535, 0.26762566, 0.90147793, 0.620972, 0.18228759, 0.1908916, 0.98174477, 0.9986732, 0.3557818, 0.22752887, 0.9721078, 0.68060267, 0.6851126, 0.9725364, 0.48483145, 0.22718894, 0.24303286, 0.437754, 0.992709, 0.16045037, 0.6214963, 0.12900151, 0.4277993, 0.4391513, 0.43908057, 0.63129616, 0.2229377, 0.9511895, 0.95579576, 0.6678152, 0.41865417, 0.96985054, 0.6794427, 0.49294636, 0.6696111, 0.56444186, 0.9032315, 0.1236737, 0.9898428, 0.22817741, 0.19708334, 0.7631018, 0.42019984, 0.30958587, 0.0931431, 0.48991215, 0.21796422, 0.5673509, 0.9550723, 0.15937953, 0.43576887, 0.9952281, 0.26331797, 0.46899673, 0.36931238, 0.24158156, 0.14808446, 0.9613453, 0.89665514, 0.52346355, 0.31716165, 0.88117814, 0.9971542, 0.647525, 0.20364864, 0.9680628, 0.78292, 0.74851274, 0.35981953, 0.38910067, 0.62856466, 0.97740114, 0.21227238, 0.5914438, 0.2972996, 0.7194314, 0.52582425, 0.7855175, 0.54543376, 0.50559783, 0.47278142, 0.88731134, 0.5439419, 0.7813703, 0.98559546, 0.68561625, 0.5378812, 0.57595193, 0.5373354, 0.19324504, 0.6801626, 0.9893765, 0.10930327, 0.6826003, 0.85532725, 0.16330937, 0.3856206, 0.50267434, 0.47048506, 0.41745856, 0.94706655, 0.3230957, 0.35273176, 0.034902018, 0.98856795, 0.89032346, 0.06690753, 0.46604872, 0.4397306, 0.37268016, 0.3978212, 0.44878083, 0.06200322, 0.07371813, 0.58293587, 0.41205835, 0.55116427, 0.83452445, 0.8661446, 0.98124737, 0.54519045, 0.35895988, 0.6930572, 0.97604173, 0.75596946, 0.99191266, 0.61582756, 0.50761837, 0.18507889, 0.19162712, 0.28507316, 0.8229249, 0.9909089, 0.91207737, 0.49818555, 0.82057095, 0.51278734, 0.77545965, 0.26828593, 0.9869645, 0.22693405, 0.019493675, 0.6320029, 0.4957059, 0.40976748, 0.22674373, 0.9993063, 0.9246435, 0.2760632, 0.8763279, 0.49096075, 0.977824, 0.9892484, 0.19831222, 0.49490717, 0.4659311, 0.4954693, 0.9932975, 0.0628198, 0.875771, 0.3437944, 0.82524663, 0.30187038, 0.9876445, 0.50402373, 0.52378374, 0.3765761, 0.3099202, 0.8165055, 0.9181525, 0.13615413, 0.2654829, 0.6603863, 0.80125517, 0.37576142, 0.4705074, 0.99744105, 0.927489, 0.19158106, 0.10960708, 0.21145035, 0.6740708, 0.37405887, 0.97305745, 0.41192797, 0.48741943, 0.39687663, 0.19234522, 0.6494027, 0.86780494, 0.24573168, 0.2151012, 0.65388405, 0.3232217, 0.5166648, 0.42504704, 0.31452522, 0.3274538, 0.40239727, 0.94459337, 0.85427356, 0.97196156, 0.41332835, 0.9920393, 0.25124794, 0.8605213, 0.7176823, 0.5689415, 0.6895048, 0.19131798, 0.19252422, 0.631265, 0.094149604, 0.6834728, 0.3546824, 0.15044086, 0.8100699, 0.3604742, 0.3250153, 0.26433772, 0.37272173, 0.26403135, 0.33549586, 0.54875505, 0.7277664, 0.16783841, 0.16562073, 0.99759364, 0.7333215, 0.9960516, 0.6619196, 0.23408103, 0.39060703, 0.20266542, 0.45040315, 0.54882497, 0.2519748, 0.8306148, 0.99288875, 0.52030796, 0.98202217, 0.99452746, 0.4928387, 0.99118567, 0.30595315, 0.5016255, 0.29867172, 0.8328624, 0.26256818, 0.17811988, 0.13324314, 0.9323576, 0.48737723, 0.70211554, 0.7323349, 0.8003435, 0.9601607, 0.8543343, 0.90791905, 0.80551827, 0.65477675, 0.74711835, 0.35421422, 0.77296, 0.22730829, 0.40626317, 0.56108385, 0.7929763, 0.7667329, 0.3731465, 0.90954894, 0.99406356, 0.58102083, 0.8201901, 0.63269895, 0.98407406, 0.673407, 0.30012736, 0.9770838, 0.3721227, 0.9881984, 0.41208667, 0.36688915, 0.84242046, 0.29740915, 0.15602846, 0.49236757, 0.6196826, 0.23339471, 0.980314, 0.34365317, 0.9657188, 0.2853358, 0.96264434, 0.9080233, 0.74751955, 0.3319631, 0.7961185, 0.9611425, 0.99743617, 0.7593768, 0.5078898, 0.9668388, 0.7810691, 0.5223238, 0.76665354, 0.7172369, 0.947416, 0.42595583, 0.61733085, 0.16611965, 0.9760859, 0.31843063, 0.26192343, 0.35611153, 0.76014775, 0.8298213, 0.9292692, 0.9746115, 0.9410928, 0.68901277, 0.9684941, 0.92948127, 0.7363856, 0.71459293, 0.6296443, 0.6112703, 0.027807755, 0.7283451, 0.71485263, 0.31489158, 0.25312182, 0.33503252, 0.874917, 0.5078033, 0.69809747, 0.12531903, 0.7553053, 0.5942639, 0.3708234, 0.25513437, 0.21386148, 0.4586773, 0.18788779, 0.87556905, 0.98256475, 0.44608554, 0.30399105, 0.25165933, 0.5686575, 0.9895484, 0.4221899, 0.11296318, 0.19422778, 0.59231555, 0.6703164, 0.9592711, 0.320632, 0.94318384, 0.3770384, 0.6385234, 0.77470577, 0.27665505, 0.37148303, 0.28426358, 0.53016824, 0.9100157, 0.22653459, 0.99036396, 0.86203307, 0.86360747, 0.33205748, 0.99882007, 0.20565332, 0.29517, 0.41169015, 0.8556401, 0.71303755, 0.3945972, 0.31767172, 0.7686962, 0.4930083, 0.10683063, 0.26456544, 0.45603737, 0.3945832, 0.4677487, 0.39216563, 0.41928947, 0.14971991, 0.85815954, 0.29599664, 0.94622374, 0.3540492, 0.5656156, 0.6468354, 0.46389788, 0.9042151, 0.9658077, 0.97789764, 0.4262621, 0.45720991, 0.82438534, 0.86923486, 0.59595823, 0.61022276, 0.48984027, 0.8970909, 0.92863095, 0.4147373, 0.71829975, 0.3379076, 0.44997275, 0.4342379, 0.6269829, 0.4345142, 0.46450785, 0.42800352, 0.34400907, 0.6080569, 0.36668336, 0.29365864, 0.9896742, 0.3870835, 0.67060137, 0.29449835, 0.6398516, 0.29877236, 0.7398457, 0.78794724, 0.26301518, 0.989006, 0.9813432, 0.50724727, 0.5552182, 0.6833651, 0.9775521, 0.46609, 0.68654126, 0.989038, 0.58281344, 0.42304546, 0.987497, 0.88110214, 0.73829395, 0.57460517, 0.89287156, 0.4455427, 0.9916278, 0.675986, 0.36568072, 0.4969937, 0.9538197, 0.08329917, 0.89753187, 0.38888612, 0.42926273, 0.99180484, 0.9916132, 0.38190928, 0.3685781, 0.94836324, 0.38818055, 0.4120142, 0.34143582, 0.07558804, 0.7947258, 0.6667769, 0.9814988, 0.08008117, 0.26565543, 0.53199196, 0.865253, 0.99270153, 0.20427251, 0.24704202, 0.684434, 0.42726955, 0.8017255, 0.4865606, 0.319304, 0.42031142, 0.5943878, 0.9769242, 0.4982315, 0.4963544, 0.8571787, 0.95443153, 0.7575617, 0.19865415, 0.34141794, 0.9766921, 0.45860022, 0.7168063, 0.64115864, 0.5409388, 0.3149927, 0.37599614, 0.4370384, 0.2952852, 0.58972555, 0.33974072, 0.29510614, 0.24248874, 0.44548532, 0.6536957, 0.26967195, 0.9136512, 0.5528993, 0.88250506, 0.9786208, 0.7503558, 0.9938017, 0.5467102, 0.34521678, 0.56376, 0.5632319, 0.5384875, 0.90384716, 0.5574094, 0.951118, 0.26457915, 0.27340716, 0.33034155, 0.44250596, 0.44761673, 0.71180296, 0.3032207, 0.9968624, 0.9058613, 0.25795755, 0.30154356, 0.250194, 0.87902385, 0.42771602, 0.2667569, 0.62526107, 0.6255456, 0.5548018, 0.95722026, 0.33073896, 0.28269935, 0.50255245, 0.66287184, 0.30429524, 0.68030393, 0.24436335, 0.24161655, 0.89373183, 0.9921384, 0.45098534, 0.8596169, 0.7387697, 0.7266552, 0.6738518, 0.9407539, 0.9007481, 0.46699923, 0.22875242, 0.7689677, 0.90704346, 0.9794004, 0.33841673, 0.9069729, 0.1699893, 0.38004068, 0.46947923, 0.22085156, 0.8267956, 0.51101685, 0.15482235, 0.48778552, 0.7900774, 0.9102979, 0.692327, 0.7331633, 0.47977257, 0.98521894, 0.42737934, 0.40755087, 0.44090256, 0.36248755, 0.36309788, 0.8515621, 0.4878489, 0.69858897, 0.8203354, 0.31890765, 0.53876185, 0.51057523, 0.39771587, 0.6837066, 0.3425806, 0.16775535, 0.6384339, 0.7584073, 0.57437503, 0.43719688, 0.36511967, 0.66719306, 0.3944855]\n",
      "<class 'list'>\n"
     ]
    }
   ],
   "source": [
    "print(score)\n",
    "print(type(score))"
   ]
  },
  {
   "cell_type": "code",
   "execution_count": 8,
   "metadata": {},
   "outputs": [],
   "source": [
    "y_pred_score = np.array(score)\n",
    "y_pred=np.where(y_pred_score>0.5,1,0)"
   ]
  },
  {
   "cell_type": "code",
   "execution_count": 9,
   "metadata": {},
   "outputs": [
    {
     "name": "stdout",
     "output_type": "stream",
     "text": [
      "[0 1 1 0 1 1 0 0 0 1 1 0 0 0 1 1 0 1 1 0 1 1 1 0 0 0 0 0 1 0 1 1 0 1 0 1 1\n",
      " 0 1 1 0 0 0 0 0 0 1 0 0 0 1 1 0 1 1 1 1 1 1 0 1 1 0 0 1 1 0 0 1 1 1 1 0 0\n",
      " 0 0 1 0 1 0 0 0 0 1 0 1 1 1 0 1 1 0 1 1 1 0 1 0 0 1 0 0 0 0 0 1 1 0 0 1 0\n",
      " 0 0 0 0 1 1 1 0 1 1 1 0 1 1 1 0 0 1 1 0 1 0 1 1 1 1 1 0 1 1 1 1 1 1 1 1 0\n",
      " 1 1 0 1 1 0 0 1 0 0 1 0 0 0 1 1 0 0 0 0 0 0 0 0 1 0 1 1 1 1 1 0 1 1 1 1 1\n",
      " 1 0 0 0 1 1 1 0 1 1 1 0 1 0 0 1 0 0 0 1 1 0 1 0 1 1 0 0 0 0 1 0 1 0 1 0 1\n",
      " 1 1 0 0 1 1 0 0 1 1 0 0 1 1 0 0 0 1 0 1 0 0 0 0 1 1 0 0 1 0 1 0 0 0 0 1 1\n",
      " 1 0 1 0 1 1 1 1 0 0 1 0 1 0 0 1 0 0 0 0 0 0 1 1 0 0 1 1 1 1 0 0 0 0 1 0 1\n",
      " 1 1 1 1 0 1 0 1 0 1 0 0 0 1 0 1 1 1 1 1 1 1 1 1 0 1 0 0 1 1 1 0 1 1 1 1 1\n",
      " 1 1 0 1 0 1 0 0 1 0 0 0 1 0 1 0 1 0 1 1 1 0 1 1 1 1 1 1 1 1 1 1 1 0 1 0 1\n",
      " 0 0 0 1 1 1 1 1 1 1 1 1 1 1 1 0 1 1 0 0 0 1 1 1 0 1 1 0 0 0 0 0 1 1 0 0 0\n",
      " 1 1 0 0 0 1 1 1 0 1 0 1 1 0 0 0 1 1 0 1 1 1 0 1 0 0 0 1 1 0 0 1 0 0 0 0 0\n",
      " 0 0 0 0 1 0 1 0 1 1 0 1 1 1 0 0 1 1 1 1 0 1 1 0 1 0 0 0 1 0 0 0 0 1 0 0 1\n",
      " 0 1 0 1 0 1 1 0 1 1 1 1 1 1 0 1 1 1 0 1 1 1 1 1 0 1 1 0 0 1 0 1 0 0 1 1 0\n",
      " 0 1 0 0 0 0 1 1 1 0 0 1 1 1 0 0 1 0 1 0 0 0 1 1 0 0 1 1 1 0 0 1 0 1 1 1 0\n",
      " 0 0 0 1 0 0 0 0 1 0 1 1 1 1 1 1 1 0 1 1 1 1 1 1 0 0 0 0 0 1 0 1 1 0 0 0 1\n",
      " 0 0 1 1 1 1 0 0 1 1 0 1 0 0 1 1 0 1 1 1 1 1 1 0 0 1 1 1 0 1 0 0 0 0 1 1 0\n",
      " 0 1 1 1 1 0 1 0 0 0 0 0 1 0 1 1 0 1 1 0 1 0 0 1 1 1 0 0 1 0]\n"
     ]
    }
   ],
   "source": [
    "print(y_pred)"
   ]
  },
  {
   "cell_type": "code",
   "execution_count": 10,
   "metadata": {},
   "outputs": [
    {
     "name": "stdout",
     "output_type": "stream",
     "text": [
      "ACC :  0.5462822458270106\n",
      "SN :  0.5472727272727272\n",
      "SP :  0.5412844036697247\n",
      "MCC :  0.0659461149310158\n",
      "AUC :  0.5935779816513762\n",
      "F1-sorce :  0.6681465038845728\n",
      "AUPR :  0.8934299577002078\n"
     ]
    }
   ],
   "source": [
    "# evaluation on our data...\n",
    "acc = accuracy_score(y_test, y_pred)\n",
    "sn = recall_score(y_test, y_pred)\n",
    "mcc = matthews_corrcoef(y_test, y_pred)\n",
    "confusion_matrix = confusion_matrix(y_test, y_pred)\n",
    "tn, fp, fn, tp = confusion_matrix.ravel()\n",
    "sp = tn / (tn + fp)\n",
    "auroc = roc_auc_score(y_test, y_pred_score)\n",
    "f1 = f1_score(y_test, y_pred.reshape(-1))\n",
    "lr_precision, lr_recall, _ = precision_recall_curve(y_test, y_pred_score)\n",
    "aupr=auc(lr_recall,lr_precision)\n",
    "\n",
    "print(\"ACC : \", acc)\n",
    "print(\"SN : \", sn)\n",
    "print(\"SP : \", sp)\n",
    "print(\"MCC : \", mcc)\n",
    "print(\"AUC : \", auroc)\n",
    "print(\"F1-sorce : \", f1)\n",
    "print(\"AUPR : \", aupr)"
   ]
  },
  {
   "cell_type": "code",
   "execution_count": 12,
   "metadata": {},
   "outputs": [
    {
     "data": {
      "image/png": "[encoded data removed]",
      "text/plain": [
       "<Figure size 640x480 with 2 Axes>"
      ]
     },
     "metadata": {},
     "output_type": "display_data"
    }
   ],
   "source": [
    "from sklearn.metrics import ConfusionMatrixDisplay\n",
    "import matplotlib.pyplot as plt\n",
    "\n",
    "disp = ConfusionMatrixDisplay(confusion_matrix=confusion_matrix)\n",
    "disp.plot()\n",
    "plt.show()"
   ]
  }
 ],
 "metadata": {
  "kernelspec": {
   "display_name": "DeepIRES",
   "language": "python",
   "name": "python3"
  },
  "language_info": {
   "codemirror_mode": {
    "name": "ipython",
    "version": 3
   },
   "file_extension": ".py",
   "mimetype": "text/x-python",
   "name": "python",
   "nbconvert_exporter": "python",
   "pygments_lexer": "ipython3",
   "version": "3.7.16"
  }
 },
 "nbformat": 4,
 "nbformat_minor": 2
}
